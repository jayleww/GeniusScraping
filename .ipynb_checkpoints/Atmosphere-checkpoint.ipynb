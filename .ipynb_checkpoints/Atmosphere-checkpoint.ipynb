{
 "cells": [
  {
   "cell_type": "code",
   "execution_count": 1,
   "metadata": {},
   "outputs": [],
   "source": [
    "import pandas as pd\n",
    "import numpy as np\n",
    "import requests\n",
    "import urllib\n",
    "import re\n",
    "from bs4 import BeautifulSoup"
   ]
  },
  {
   "cell_type": "code",
   "execution_count": 11,
   "metadata": {},
   "outputs": [],
   "source": [
    "#Open the page with all albums.\n",
    "main_page = 'https://www.azlyrics.com/a/atmosphere.html'\n",
    "try:\n",
    "    content = urllib.request.urlopen(main_page).read()\n",
    "    main_soup = BeautifulSoup(content, 'html.parser')\n",
    "except Exception as e:\n",
    "    print('Error'+str(e))\n",
    "#Pull the list of albums on the page and the associated IDs.\n",
    "album_list = main_soup.find(id='listAlbum')\n",
    "albums = [name.string.strip('\\\"') for name in album_list.findAll('b')]\n",
    "album_ids = [number.get('id') for number in album_list.findAll(['a']) if len(number)==0]"
   ]
  },
  {
   "cell_type": "code",
   "execution_count": 104,
   "metadata": {},
   "outputs": [
    {
     "data": {
      "text/html": [
       "<div>\n",
       "<style scoped>\n",
       "    .dataframe tbody tr th:only-of-type {\n",
       "        vertical-align: middle;\n",
       "    }\n",
       "\n",
       "    .dataframe tbody tr th {\n",
       "        vertical-align: top;\n",
       "    }\n",
       "\n",
       "    .dataframe thead th {\n",
       "        text-align: right;\n",
       "    }\n",
       "</style>\n",
       "<table border=\"1\" class=\"dataframe\">\n",
       "  <thead>\n",
       "    <tr style=\"text-align: right;\">\n",
       "      <th></th>\n",
       "      <th>AlbumName</th>\n",
       "      <th>AlbumID</th>\n",
       "    </tr>\n",
       "  </thead>\n",
       "  <tbody>\n",
       "    <tr>\n",
       "      <th>0</th>\n",
       "      <td>Overcast!</td>\n",
       "      <td>7391</td>\n",
       "    </tr>\n",
       "    <tr>\n",
       "      <th>1</th>\n",
       "      <td>Lucy Ford: The Atmosphere EPs</td>\n",
       "      <td>5001</td>\n",
       "    </tr>\n",
       "    <tr>\n",
       "      <th>2</th>\n",
       "      <td>God Loves Ugly</td>\n",
       "      <td>5005</td>\n",
       "    </tr>\n",
       "    <tr>\n",
       "      <th>3</th>\n",
       "      <td>Seven's Travels</td>\n",
       "      <td>3262</td>\n",
       "    </tr>\n",
       "    <tr>\n",
       "      <th>4</th>\n",
       "      <td>Headshots: SE7EN</td>\n",
       "      <td>7592</td>\n",
       "    </tr>\n",
       "    <tr>\n",
       "      <th>5</th>\n",
       "      <td>You Can't Imagine How Much Fun We're Having</td>\n",
       "      <td>5146</td>\n",
       "    </tr>\n",
       "    <tr>\n",
       "      <th>6</th>\n",
       "      <td>Happy Clown Bad Dub 8 / Fun EP</td>\n",
       "      <td>7187</td>\n",
       "    </tr>\n",
       "    <tr>\n",
       "      <th>7</th>\n",
       "      <td>Sad Clown Bad Summer #9</td>\n",
       "      <td>6298</td>\n",
       "    </tr>\n",
       "    <tr>\n",
       "      <th>8</th>\n",
       "      <td>Sad Clown Bad Fall #10</td>\n",
       "      <td>7048</td>\n",
       "    </tr>\n",
       "    <tr>\n",
       "      <th>9</th>\n",
       "      <td>Sad Clown Bad Winter #11</td>\n",
       "      <td>7050</td>\n",
       "    </tr>\n",
       "    <tr>\n",
       "      <th>10</th>\n",
       "      <td>Strictly Leakage</td>\n",
       "      <td>6710</td>\n",
       "    </tr>\n",
       "    <tr>\n",
       "      <th>11</th>\n",
       "      <td>When Life Gives You Lemons, You Paint That Shi...</td>\n",
       "      <td>6684</td>\n",
       "    </tr>\n",
       "    <tr>\n",
       "      <th>12</th>\n",
       "      <td>Sad Clown Bad Spring #12</td>\n",
       "      <td>7049</td>\n",
       "    </tr>\n",
       "    <tr>\n",
       "      <th>13</th>\n",
       "      <td>Leak At Will</td>\n",
       "      <td>7568</td>\n",
       "    </tr>\n",
       "    <tr>\n",
       "      <th>14</th>\n",
       "      <td>To All My Friends, Blood Makes The Blade Holy ...</td>\n",
       "      <td>10118</td>\n",
       "    </tr>\n",
       "    <tr>\n",
       "      <th>15</th>\n",
       "      <td>The Family Sign</td>\n",
       "      <td>15442</td>\n",
       "    </tr>\n",
       "    <tr>\n",
       "      <th>16</th>\n",
       "      <td>SouthSiders</td>\n",
       "      <td>31840</td>\n",
       "    </tr>\n",
       "    <tr>\n",
       "      <th>17</th>\n",
       "      <td>Fishing Blues</td>\n",
       "      <td>43755</td>\n",
       "    </tr>\n",
       "  </tbody>\n",
       "</table>\n",
       "</div>"
      ],
      "text/plain": [
       "                                            AlbumName AlbumID\n",
       "0                                           Overcast!    7391\n",
       "1                       Lucy Ford: The Atmosphere EPs    5001\n",
       "2                                      God Loves Ugly    5005\n",
       "3                                     Seven's Travels    3262\n",
       "4                                    Headshots: SE7EN    7592\n",
       "5         You Can't Imagine How Much Fun We're Having    5146\n",
       "6                      Happy Clown Bad Dub 8 / Fun EP    7187\n",
       "7                             Sad Clown Bad Summer #9    6298\n",
       "8                              Sad Clown Bad Fall #10    7048\n",
       "9                            Sad Clown Bad Winter #11    7050\n",
       "10                                   Strictly Leakage    6710\n",
       "11  When Life Gives You Lemons, You Paint That Shi...    6684\n",
       "12                           Sad Clown Bad Spring #12    7049\n",
       "13                                       Leak At Will    7568\n",
       "14  To All My Friends, Blood Makes The Blade Holy ...   10118\n",
       "15                                    The Family Sign   15442\n",
       "16                                        SouthSiders   31840\n",
       "17                                      Fishing Blues   43755"
      ]
     },
     "execution_count": 104,
     "metadata": {},
     "output_type": "execute_result"
    }
   ],
   "source": [
    "#Create a dataframe containing each album and the ID\n",
    "albumdf = pd.DataFrame(data={'AlbumName': albums, 'AlbumID': album_ids})\n",
    "albumdf"
   ]
  },
  {
   "cell_type": "code",
   "execution_count": 135,
   "metadata": {},
   "outputs": [
    {
     "name": "stdout",
     "output_type": "stream",
     "text": [
      "Brief Description\n",
      "Current Status\n",
      "Complications\n",
      "4:30 AM\n",
      "Adjust\n",
      "Clay\n",
      "Sound Is Vibration\n",
      "Multiples\n",
      "Scapegoat\n",
      "WND\n",
      "Multiples (Reprise)\n",
      "Caved In\n",
      "Cuando Limpia El Humo\n",
      "The Outernet\n",
      "Primer\n",
      "\n"
     ]
    }
   ],
   "source": [
    "#Need to implement loop/vectorize (if possible) so it can be done on every album.\n",
    "\n",
    "#Find the first album\n",
    "firsta = album_list.findAll(class_='album')[0]\n",
    "#Initialize song list\n",
    "songs = []\n",
    "#Find where the song titles begin\n",
    "title = firsta.findNext('a', text=True)\n",
    "#Loop through the list until reaching the next album, where there is an ID field.\n",
    "while title.get('id') != albumdf['AlbumID'][1]:\n",
    "    songs.append(title.text)\n",
    "    title = title.findNext('a')\n",
    "    print(title.text)\n"
   ]
  },
  {
   "cell_type": "code",
   "execution_count": 131,
   "metadata": {},
   "outputs": [
    {
     "data": {
      "text/plain": [
       "['1597',\n",
       " 'Brief Description',\n",
       " 'Current Status',\n",
       " 'Complications',\n",
       " '4:30 AM',\n",
       " 'Adjust',\n",
       " 'Clay',\n",
       " 'Sound Is Vibration',\n",
       " 'Multiples',\n",
       " 'Scapegoat',\n",
       " 'WND',\n",
       " 'Multiples (Reprise)',\n",
       " 'Caved In',\n",
       " 'Cuando Limpia El Humo',\n",
       " 'The Outernet',\n",
       " 'Primer']"
      ]
     },
     "execution_count": 131,
     "metadata": {},
     "output_type": "execute_result"
    }
   ],
   "source": [
    "songs"
   ]
  },
  {
   "cell_type": "code",
   "execution_count": null,
   "metadata": {},
   "outputs": [],
   "source": []
  },
  {
   "cell_type": "code",
   "execution_count": null,
   "metadata": {},
   "outputs": [],
   "source": []
  }
 ],
 "metadata": {
  "kernelspec": {
   "display_name": "Python 3",
   "language": "python",
   "name": "python3"
  },
  "language_info": {
   "codemirror_mode": {
    "name": "ipython",
    "version": 3
   },
   "file_extension": ".py",
   "mimetype": "text/x-python",
   "name": "python",
   "nbconvert_exporter": "python",
   "pygments_lexer": "ipython3",
   "version": "3.6.5"
  }
 },
 "nbformat": 4,
 "nbformat_minor": 2
}
